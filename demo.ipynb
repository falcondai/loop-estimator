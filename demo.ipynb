{
 "cells": [
  {
   "cell_type": "code",
   "execution_count": 3,
   "metadata": {},
   "outputs": [
    {
     "name": "stdout",
     "output_type": "stream",
     "text": [
      "Requirement already satisfied: appnope==0.1.0 in /Users/dai/.pyenv/versions/3.6.5/envs/loop/lib/python3.6/site-packages (from -r requirements.txt (line 1)) (0.1.0)\n",
      "Requirement already satisfied: attrs==19.2.0 in /Users/dai/.pyenv/versions/3.6.5/envs/loop/lib/python3.6/site-packages (from -r requirements.txt (line 2)) (19.2.0)\n",
      "Requirement already satisfied: autopep8==1.4.3 in /Users/dai/.pyenv/versions/3.6.5/envs/loop/lib/python3.6/site-packages (from -r requirements.txt (line 3)) (1.4.3)\n",
      "Requirement already satisfied: backcall==0.1.0 in /Users/dai/.pyenv/versions/3.6.5/envs/loop/lib/python3.6/site-packages (from -r requirements.txt (line 4)) (0.1.0)\n",
      "Requirement already satisfied: bleach==3.1.0 in /Users/dai/.pyenv/versions/3.6.5/envs/loop/lib/python3.6/site-packages (from -r requirements.txt (line 5)) (3.1.0)\n",
      "Requirement already satisfied: cycler==0.10.0 in /Users/dai/.pyenv/versions/3.6.5/envs/loop/lib/python3.6/site-packages (from -r requirements.txt (line 6)) (0.10.0)\n",
      "Requirement already satisfied: decorator==4.3.2 in /Users/dai/.pyenv/versions/3.6.5/envs/loop/lib/python3.6/site-packages (from -r requirements.txt (line 7)) (4.3.2)\n",
      "Requirement already satisfied: defusedxml==0.6.0 in /Users/dai/.pyenv/versions/3.6.5/envs/loop/lib/python3.6/site-packages (from -r requirements.txt (line 8)) (0.6.0)\n",
      "Requirement already satisfied: entrypoints==0.3 in /Users/dai/.pyenv/versions/3.6.5/envs/loop/lib/python3.6/site-packages (from -r requirements.txt (line 9)) (0.3)\n",
      "Requirement already satisfied: future==0.17.1 in /Users/dai/.pyenv/versions/3.6.5/envs/loop/lib/python3.6/site-packages (from -r requirements.txt (line 10)) (0.17.1)\n",
      "Requirement already satisfied: ipykernel==5.1.2 in /Users/dai/.pyenv/versions/3.6.5/envs/loop/lib/python3.6/site-packages (from -r requirements.txt (line 11)) (5.1.2)\n",
      "Requirement already satisfied: ipython==7.3.0 in /Users/dai/.pyenv/versions/3.6.5/envs/loop/lib/python3.6/site-packages (from -r requirements.txt (line 12)) (7.3.0)\n",
      "Requirement already satisfied: ipython-genutils==0.2.0 in /Users/dai/.pyenv/versions/3.6.5/envs/loop/lib/python3.6/site-packages (from -r requirements.txt (line 13)) (0.2.0)\n",
      "Requirement already satisfied: ipywidgets==7.5.1 in /Users/dai/.pyenv/versions/3.6.5/envs/loop/lib/python3.6/site-packages (from -r requirements.txt (line 14)) (7.5.1)\n",
      "Requirement already satisfied: jedi==0.13.3 in /Users/dai/.pyenv/versions/3.6.5/envs/loop/lib/python3.6/site-packages (from -r requirements.txt (line 15)) (0.13.3)\n",
      "Requirement already satisfied: Jinja2==2.10.1 in /Users/dai/.pyenv/versions/3.6.5/envs/loop/lib/python3.6/site-packages (from -r requirements.txt (line 16)) (2.10.1)\n",
      "Requirement already satisfied: jsonschema==3.0.2 in /Users/dai/.pyenv/versions/3.6.5/envs/loop/lib/python3.6/site-packages (from -r requirements.txt (line 17)) (3.0.2)\n",
      "Requirement already satisfied: jupyter==1.0.0 in /Users/dai/.pyenv/versions/3.6.5/envs/loop/lib/python3.6/site-packages (from -r requirements.txt (line 18)) (1.0.0)\n",
      "Requirement already satisfied: jupyter-client==5.3.3 in /Users/dai/.pyenv/versions/3.6.5/envs/loop/lib/python3.6/site-packages (from -r requirements.txt (line 19)) (5.3.3)\n",
      "Requirement already satisfied: jupyter-console==6.0.0 in /Users/dai/.pyenv/versions/3.6.5/envs/loop/lib/python3.6/site-packages (from -r requirements.txt (line 20)) (6.0.0)\n",
      "Requirement already satisfied: jupyter-core==4.5.0 in /Users/dai/.pyenv/versions/3.6.5/envs/loop/lib/python3.6/site-packages (from -r requirements.txt (line 21)) (4.5.0)\n",
      "Requirement already satisfied: kiwisolver==1.0.1 in /Users/dai/.pyenv/versions/3.6.5/envs/loop/lib/python3.6/site-packages (from -r requirements.txt (line 22)) (1.0.1)\n",
      "Requirement already satisfied: MarkupSafe==1.1.1 in /Users/dai/.pyenv/versions/3.6.5/envs/loop/lib/python3.6/site-packages (from -r requirements.txt (line 23)) (1.1.1)\n",
      "Requirement already satisfied: matplotlib==3.0.3 in /Users/dai/.pyenv/versions/3.6.5/envs/loop/lib/python3.6/site-packages (from -r requirements.txt (line 24)) (3.0.3)\n",
      "Requirement already satisfied: mccabe==0.6.1 in /Users/dai/.pyenv/versions/3.6.5/envs/loop/lib/python3.6/site-packages (from -r requirements.txt (line 25)) (0.6.1)\n",
      "Requirement already satisfied: mistune==0.8.4 in /Users/dai/.pyenv/versions/3.6.5/envs/loop/lib/python3.6/site-packages (from -r requirements.txt (line 26)) (0.8.4)\n",
      "Requirement already satisfied: nbconvert==5.6.0 in /Users/dai/.pyenv/versions/3.6.5/envs/loop/lib/python3.6/site-packages (from -r requirements.txt (line 27)) (5.6.0)\n",
      "Requirement already satisfied: nbformat==4.4.0 in /Users/dai/.pyenv/versions/3.6.5/envs/loop/lib/python3.6/site-packages (from -r requirements.txt (line 28)) (4.4.0)\n",
      "Requirement already satisfied: notebook==6.0.1 in /Users/dai/.pyenv/versions/3.6.5/envs/loop/lib/python3.6/site-packages (from -r requirements.txt (line 29)) (6.0.1)\n",
      "Requirement already satisfied: numpy==1.16.2 in /Users/dai/.pyenv/versions/3.6.5/envs/loop/lib/python3.6/site-packages (from -r requirements.txt (line 30)) (1.16.2)\n",
      "Requirement already satisfied: pandocfilters==1.4.2 in /Users/dai/.pyenv/versions/3.6.5/envs/loop/lib/python3.6/site-packages (from -r requirements.txt (line 31)) (1.4.2)\n",
      "Requirement already satisfied: parso==0.3.4 in /Users/dai/.pyenv/versions/3.6.5/envs/loop/lib/python3.6/site-packages (from -r requirements.txt (line 32)) (0.3.4)\n",
      "Requirement already satisfied: pexpect==4.6.0 in /Users/dai/.pyenv/versions/3.6.5/envs/loop/lib/python3.6/site-packages (from -r requirements.txt (line 33)) (4.6.0)\n",
      "Requirement already satisfied: pickleshare==0.7.5 in /Users/dai/.pyenv/versions/3.6.5/envs/loop/lib/python3.6/site-packages (from -r requirements.txt (line 34)) (0.7.5)\n",
      "Requirement already satisfied: pluggy==0.9.0 in /Users/dai/.pyenv/versions/3.6.5/envs/loop/lib/python3.6/site-packages (from -r requirements.txt (line 35)) (0.9.0)\n",
      "Requirement already satisfied: prometheus-client==0.7.1 in /Users/dai/.pyenv/versions/3.6.5/envs/loop/lib/python3.6/site-packages (from -r requirements.txt (line 36)) (0.7.1)\n",
      "Requirement already satisfied: prompt-toolkit==2.0.9 in /Users/dai/.pyenv/versions/3.6.5/envs/loop/lib/python3.6/site-packages (from -r requirements.txt (line 37)) (2.0.9)\n",
      "Requirement already satisfied: ptyprocess==0.6.0 in /Users/dai/.pyenv/versions/3.6.5/envs/loop/lib/python3.6/site-packages (from -r requirements.txt (line 38)) (0.6.0)\n",
      "Requirement already satisfied: pycodestyle==2.5.0 in /Users/dai/.pyenv/versions/3.6.5/envs/loop/lib/python3.6/site-packages (from -r requirements.txt (line 39)) (2.5.0)\n",
      "Requirement already satisfied: pydocstyle==3.0.0 in /Users/dai/.pyenv/versions/3.6.5/envs/loop/lib/python3.6/site-packages (from -r requirements.txt (line 40)) (3.0.0)\n",
      "Requirement already satisfied: pyflakes==2.1.1 in /Users/dai/.pyenv/versions/3.6.5/envs/loop/lib/python3.6/site-packages (from -r requirements.txt (line 41)) (2.1.1)\n",
      "Requirement already satisfied: Pygments==2.3.1 in /Users/dai/.pyenv/versions/3.6.5/envs/loop/lib/python3.6/site-packages (from -r requirements.txt (line 42)) (2.3.1)\n",
      "Requirement already satisfied: pyparsing==2.3.1 in /Users/dai/.pyenv/versions/3.6.5/envs/loop/lib/python3.6/site-packages (from -r requirements.txt (line 43)) (2.3.1)\n",
      "Requirement already satisfied: pyrsistent==0.15.4 in /Users/dai/.pyenv/versions/3.6.5/envs/loop/lib/python3.6/site-packages (from -r requirements.txt (line 44)) (0.15.4)\n",
      "Requirement already satisfied: python-dateutil==2.8.0 in /Users/dai/.pyenv/versions/3.6.5/envs/loop/lib/python3.6/site-packages (from -r requirements.txt (line 45)) (2.8.0)\n",
      "Requirement already satisfied: python-jsonrpc-server==0.1.2 in /Users/dai/.pyenv/versions/3.6.5/envs/loop/lib/python3.6/site-packages (from -r requirements.txt (line 46)) (0.1.2)\n",
      "Requirement already satisfied: python-language-server==0.24.0 in /Users/dai/.pyenv/versions/3.6.5/envs/loop/lib/python3.6/site-packages (from -r requirements.txt (line 47)) (0.24.0)\n",
      "Requirement already satisfied: pyzmq==18.1.0 in /Users/dai/.pyenv/versions/3.6.5/envs/loop/lib/python3.6/site-packages (from -r requirements.txt (line 48)) (18.1.0)\n",
      "Requirement already satisfied: qtconsole==4.5.5 in /Users/dai/.pyenv/versions/3.6.5/envs/loop/lib/python3.6/site-packages (from -r requirements.txt (line 49)) (4.5.5)\n"
     ]
    },
    {
     "name": "stdout",
     "output_type": "stream",
     "text": [
      "Requirement already satisfied: rope==0.12.0 in /Users/dai/.pyenv/versions/3.6.5/envs/loop/lib/python3.6/site-packages (from -r requirements.txt (line 50)) (0.12.0)\n",
      "Requirement already satisfied: scipy==1.2.1 in /Users/dai/.pyenv/versions/3.6.5/envs/loop/lib/python3.6/site-packages (from -r requirements.txt (line 51)) (1.2.1)\n",
      "Requirement already satisfied: Send2Trash==1.5.0 in /Users/dai/.pyenv/versions/3.6.5/envs/loop/lib/python3.6/site-packages (from -r requirements.txt (line 52)) (1.5.0)\n",
      "Requirement already satisfied: six==1.12.0 in /Users/dai/.pyenv/versions/3.6.5/envs/loop/lib/python3.6/site-packages (from -r requirements.txt (line 53)) (1.12.0)\n",
      "Requirement already satisfied: snowballstemmer==1.2.1 in /Users/dai/.pyenv/versions/3.6.5/envs/loop/lib/python3.6/site-packages (from -r requirements.txt (line 54)) (1.2.1)\n",
      "Requirement already satisfied: terminado==0.8.2 in /Users/dai/.pyenv/versions/3.6.5/envs/loop/lib/python3.6/site-packages (from -r requirements.txt (line 55)) (0.8.2)\n",
      "Requirement already satisfied: testpath==0.4.2 in /Users/dai/.pyenv/versions/3.6.5/envs/loop/lib/python3.6/site-packages (from -r requirements.txt (line 56)) (0.4.2)\n",
      "Requirement already satisfied: tornado==6.0.3 in /Users/dai/.pyenv/versions/3.6.5/envs/loop/lib/python3.6/site-packages (from -r requirements.txt (line 57)) (6.0.3)\n",
      "Requirement already satisfied: traitlets==4.3.2 in /Users/dai/.pyenv/versions/3.6.5/envs/loop/lib/python3.6/site-packages (from -r requirements.txt (line 58)) (4.3.2)\n",
      "Requirement already satisfied: wcwidth==0.1.7 in /Users/dai/.pyenv/versions/3.6.5/envs/loop/lib/python3.6/site-packages (from -r requirements.txt (line 59)) (0.1.7)\n",
      "Requirement already satisfied: webencodings==0.5.1 in /Users/dai/.pyenv/versions/3.6.5/envs/loop/lib/python3.6/site-packages (from -r requirements.txt (line 60)) (0.5.1)\n",
      "Requirement already satisfied: widgetsnbextension==3.5.1 in /Users/dai/.pyenv/versions/3.6.5/envs/loop/lib/python3.6/site-packages (from -r requirements.txt (line 61)) (3.5.1)\n",
      "Requirement already satisfied: yapf==0.26.0 in /Users/dai/.pyenv/versions/3.6.5/envs/loop/lib/python3.6/site-packages (from -r requirements.txt (line 62)) (0.26.0)\n",
      "Requirement already satisfied: setuptools>=18.5 in /Users/dai/.pyenv/versions/3.6.5/envs/loop/lib/python3.6/site-packages (from ipython==7.3.0->-r requirements.txt (line 12)) (39.0.1)\n",
      "\u001b[33mYou are using pip version 19.0.3, however version 20.0.2 is available.\n",
      "You should consider upgrading via the 'pip install --upgrade pip' command.\u001b[0m\n",
      "Note: you may need to restart the kernel to use updated packages.\n"
     ]
    }
   ],
   "source": [
    "# Install dependencies\n",
    "%pip install -r requirements.txt"
   ]
  },
  {
   "cell_type": "code",
   "execution_count": 4,
   "metadata": {},
   "outputs": [
    {
     "name": "stdout",
     "output_type": "stream",
     "text": [
      "Populating the interactive namespace from numpy and matplotlib\n"
     ]
    }
   ],
   "source": [
    "%pylab inline"
   ]
  },
  {
   "cell_type": "code",
   "execution_count": 5,
   "metadata": {},
   "outputs": [],
   "source": [
    "from mrp import RiverSwim, MdpPi\n",
    "from mc import p2n\n",
    "from estimate import exact, co_loop, co_loop_single, co_model_based, co_td_k"
   ]
  },
  {
   "cell_type": "code",
   "execution_count": 7,
   "metadata": {},
   "outputs": [],
   "source": [
    "# RiverSwim MDP\n",
    "rs = RiverSwim()\n",
    "# Follow the \"always swim upstream\" policy\n",
    "pi = [1] * 6\n",
    "# Use the induced MRP\n",
    "mrp = MdpPi(rs, pi)"
   ]
  },
  {
   "cell_type": "code",
   "execution_count": 8,
   "metadata": {},
   "outputs": [
    {
     "data": {
      "text/plain": [
       "array([[0.7, 0.3, 0. , 0. , 0. , 0. ],\n",
       "       [0.1, 0.6, 0.3, 0. , 0. , 0. ],\n",
       "       [0. , 0.1, 0.6, 0.3, 0. , 0. ],\n",
       "       [0. , 0. , 0.1, 0.6, 0.3, 0. ],\n",
       "       [0. , 0. , 0. , 0.1, 0.6, 0.3],\n",
       "       [0. , 0. , 0. , 0. , 0.7, 0.3]])"
      ]
     },
     "execution_count": 8,
     "metadata": {},
     "output_type": "execute_result"
    }
   ],
   "source": [
    "# MRP parameters\n",
    "mrp.p"
   ]
  },
  {
   "cell_type": "code",
   "execution_count": 9,
   "metadata": {},
   "outputs": [
    {
     "data": {
      "text/plain": [
       "array([0., 0., 0., 0., 0., 1.])"
      ]
     },
     "execution_count": 9,
     "metadata": {},
     "output_type": "execute_result"
    }
   ],
   "source": [
    "mrp.r"
   ]
  },
  {
   "cell_type": "code",
   "execution_count": 11,
   "metadata": {},
   "outputs": [
    {
     "data": {
      "text/plain": [
       "array([[155.71428571,   3.33333333,   7.77777778,  12.59259259,\n",
       "         17.5308642 ,  22.51028807],\n",
       "       [515.71428571,  51.9047619 ,   4.44444444,   9.25925926,\n",
       "         14.19753086,  19.17695473],\n",
       "       [684.28571429, 168.57142857,  17.3015873 ,   4.81481481,\n",
       "          9.75308642,  14.73251029],\n",
       "       [737.14285714, 221.42857143,  52.85714286,   5.76719577,\n",
       "          4.9382716 ,   9.91769547],\n",
       "       [751.42857143, 235.71428571,  67.14285714,  14.28571429,\n",
       "          1.92239859,   4.97942387],\n",
       "       [752.85714286, 237.14285714,  68.57142857,  15.71428571,\n",
       "          1.42857143,   4.48559671]])"
      ]
     },
     "execution_count": 11,
     "metadata": {},
     "output_type": "execute_result"
    }
   ],
   "source": [
    "# Solve for expected first return times from state i to state j\n",
    "fr = p2n(mrp.p)\n",
    "fr"
   ]
  },
  {
   "cell_type": "code",
   "execution_count": 12,
   "metadata": {},
   "outputs": [
    {
     "data": {
      "text/plain": [
       "array([155.71428571,  51.9047619 ,  17.3015873 ,   5.76719577,\n",
       "         1.92239859,   4.48559671])"
      ]
     },
     "execution_count": 12,
     "metadata": {},
     "output_type": "execute_result"
    }
   ],
   "source": [
    "# Expected recurrence times\n",
    "rho = fr.diagonal()\n",
    "rho"
   ]
  },
  {
   "cell_type": "code",
   "execution_count": 13,
   "metadata": {},
   "outputs": [
    {
     "data": {
      "text/plain": [
       "array([752.85714286, 237.14285714,  68.57142857,  15.71428571,\n",
       "        17.5308642 ,  22.51028807])"
      ]
     },
     "execution_count": 13,
     "metadata": {},
     "output_type": "execute_result"
    }
   ],
   "source": [
    "# Maximal expected hitting times\n",
    "tau = fr.max(0)\n",
    "tau"
   ]
  },
  {
   "cell_type": "code",
   "execution_count": 15,
   "metadata": {},
   "outputs": [
    {
     "data": {
      "text/plain": [
       "array([0.51032133, 0.69932923, 1.02134269, 1.50695559, 2.22695825,\n",
       "       3.29175849])"
      ]
     },
     "execution_count": 15,
     "metadata": {},
     "output_type": "execute_result"
    }
   ],
   "source": [
    "# Discount factor for value, gamma\n",
    "discount = 0.9\n",
    "# Solve for state values exactly\n",
    "v = exact(mrp.p, mrp.r, discount)\n",
    "v"
   ]
  },
  {
   "cell_type": "code",
   "execution_count": 16,
   "metadata": {},
   "outputs": [],
   "source": [
    "# Experiment setting (Takes about an hour on a workstation)\n",
    "n_sample_paths = 200\n",
    "n_chunks = 100\n",
    "len_chunk = 1000\n",
    "initial_state = 0\n",
    "discount = 0.99\n",
    "v = exact(mrp.p, mrp.r, discount)\n",
    "\n",
    "# Log estimates\n",
    "vs_loop = zeros((n_sample_paths, n_chunks, mrp.n_states))\n",
    "vs_mb = zeros((n_sample_paths, n_chunks, mrp.n_states))\n",
    "vs_td = zeros((n_sample_paths, n_chunks, mrp.n_states))\n",
    "vs_td_10 = zeros((n_sample_paths, n_chunks, mrp.n_states))\n",
    "vs_td_em = zeros((n_sample_paths, n_chunks, mrp.n_states))\n",
    "\n",
    "for i in range(n_sample_paths):\n",
    "    # Reset the MRP to initial state\n",
    "    mrp.state = initial_state\n",
    "\n",
    "    # Estimators\n",
    "    # Loop estimator\n",
    "    v_loop = co_loop(mrp.n_states, discount)\n",
    "    v_loop.send(None)\n",
    "    # Model-based estimator\n",
    "    v_mb = co_model_based(mrp.n_states, discount)\n",
    "    v_mb.send(None)\n",
    "    # TD(0) estimator with linear update sizes (Robbins-Monro condition)\n",
    "    v_td = co_td_k(0, mrp.n_states, discount, lambda n : 1 / n)\n",
    "    v_td.send(None)\n",
    "    # TD(10) estimator [KS00]\n",
    "    v_td_10 = co_td_k(10, mrp.n_states, discount, lambda n : 1 / n)\n",
    "    v_td_10.send(None)\n",
    "    # TD(0) estimator with polynomial update sizes [EM03]\n",
    "    v_td_em = co_td_k(0, mrp.n_states, discount, lambda n : 1 / n ** 0.5)\n",
    "    v_td_em.send(None)\n",
    "\n",
    "    for j in range(n_chunks):\n",
    "        # Sample some steps\n",
    "        chunk = list(mrp.sample_transition(len_chunk))\n",
    "        # Update estimates\n",
    "        v_loop_hat = v_loop.send(chunk)\n",
    "        v_mb_hat = v_mb.send(chunk)\n",
    "        v_td_hat = v_td.send(chunk)\n",
    "        v_td_10_hat = v_td_10.send(chunk)\n",
    "        v_td_em_hat = v_td_em.send(chunk)\n",
    "        # Record estimates\n",
    "        vs_loop[i, j] = v_loop_hat\n",
    "        vs_mb[i, j] = v_mb_hat\n",
    "        vs_td[i, j] = v_td_hat\n",
    "        vs_td_10[i, j] = v_td_10_hat\n",
    "        vs_td_em[i, j] = v_td_em_hat"
   ]
  },
  {
   "cell_type": "code",
   "execution_count": 18,
   "metadata": {},
   "outputs": [],
   "source": [
    "# Optionally save them to disk\n",
    "save('vs_loop_%i_%.4f' % (n_sample_paths, discount), vs_loop)\n",
    "save('vs_mb_%i_%.4f' % (n_sample_paths, discount), vs_mb)\n",
    "save('vs_td_%i_%.4f' % (n_sample_paths, discount), vs_td)\n",
    "save('vs_td_10_%i_%.4f' % (n_sample_paths, discount), vs_td_10)\n",
    "save('vs_td_em_%i_%.4f' % (n_sample_paths, discount), vs_td_em)"
   ]
  },
  {
   "cell_type": "code",
   "execution_count": 22,
   "metadata": {},
   "outputs": [],
   "source": [
    "# Optionally load them from disk\n",
    "vs_loop = load('vs_loop_200_0.9900.npy')\n",
    "vs_mb = load('vs_mb_200_0.9900.npy')\n",
    "vs_td = load('vs_td_200_0.9900.npy')\n",
    "vs_td_10 = load('vs_td_10_200_0.9900.npy')\n",
    "vs_td_em = load('vs_td_em_200_0.9900.npy')"
   ]
  },
  {
   "cell_type": "code",
   "execution_count": 24,
   "metadata": {},
   "outputs": [
    {
     "data": {
      "image/png": "[encoded data removed]",
      "text/plain": [
       "<Figure size 432x288 with 1 Axes>"
      ]
     },
     "metadata": {
      "needs_background": "light"
     },
     "output_type": "display_data"
    }
   ],
   "source": [
    "# Plot normalized estimation error (in inf-norm) over steps\n",
    "legends = ['loop', 'model-based', 'TD(0)', 'TD(10)', 'TD(0)*']\n",
    "lss = ['-', '--', ':', ':', ':']\n",
    "vss = [vs_loop, vs_mb, vs_td, vs_td_10, vs_td_em]\n",
    "# Use max_s v(s) as a scale for errors\n",
    "max_v = v.max()\n",
    "\n",
    "for label, vs, ls in zip(legends, vss, lss):\n",
    "    # Plot the estimation errors with standard deviations\n",
    "    dd = np.abs(vs - v.reshape((1, 1, -1))).max(2)\n",
    "    # Normalize errors by max_s v(s)\n",
    "    dd /= max_v\n",
    "    dmean = dd.mean(0)\n",
    "    derr = dd.std(0)\n",
    "    steps = arange(0, n_chunks * len_chunk, len_chunk)\n",
    "    plot(steps, dmean, ls, label=label)\n",
    "    fill_between(steps, dmean - derr, dmean + derr, alpha=0.2)\n",
    "yscale('log')\n",
    "\n",
    "ylabel(r'normalized $\\infty$-norm of error')\n",
    "xlabel(r'steps $T$')\n",
    "title(r'$\\gamma=%.2f$' % discount)\n",
    "\n",
    "lgd = legend(bbox_to_anchor=(0.5, -0.2), loc='upper center', ncol=len(legends))\n",
    "savefig('inf-error-200-99.pdf', bbox_extra_artists=(lgd,), bbox_inches='tight')"
   ]
  },
  {
   "cell_type": "code",
   "execution_count": 48,
   "metadata": {},
   "outputs": [
    {
     "data": {
      "image/png": "[encoded data removed]",
      "text/plain": [
       "<Figure size 432x288 with 1 Axes>"
      ]
     },
     "metadata": {
      "needs_background": "light"
     },
     "output_type": "display_data"
    }
   ],
   "source": [
    "# Assess the scaling of error over tau_s\n",
    "from numpy.polynomial.polynomial import polyfit\n",
    "\n",
    "# Plot the estimation errors with standard deviations over states\n",
    "dd = np.abs(vs_loop - v.reshape((1, 1, -1)))[:, -1, :]\n",
    "dd /= max_v\n",
    "dmean = dd.mean(0)\n",
    "derr = dd.std(0)\n",
    "steps = arange(0, n_chunks * len_chunk, len_chunk)\n",
    "# Fit a line\n",
    "xx = sqrt(tau)\n",
    "b, m = polyfit(xx, dmean, deg=1, w=1 / derr)\n",
    "errorbar(xx, dmean, yerr=derr, fmt='o', label=None, alpha=1)\n",
    "plot(xx, b + m * xx, '-', alpha=0.8, label='best fitted line')\n",
    "\n",
    "legend(loc='upper left')\n",
    "xlabel(r'$\\sqrt{\\tau_s}$')\n",
    "ylabel(r'normalized $| \\hat{v}_T(s) - v(s) |$')\n",
    "title(r'$\\gamma = %.2f, T = 10^5$' % discount)\n",
    "savefig('tau-delta-200-99.pdf')"
   ]
  },
  {
   "cell_type": "code",
   "execution_count": 47,
   "metadata": {},
   "outputs": [
    {
     "data": {
      "text/plain": [
       "Text(0.5, 1.0, '$\\\\gamma = 0.99, T = 10^5$')"
      ]
     },
     "execution_count": 47,
     "metadata": {},
     "output_type": "execute_result"
    },
    {
     "data": {
      "image/png": "[encoded data removed]",
      "text/plain": [
       "<Figure size 432x288 with 1 Axes>"
      ]
     },
     "metadata": {
      "needs_background": "light"
     },
     "output_type": "display_data"
    }
   ],
   "source": [
    "# Assess the scaling of error over tau_s for an alternative method, TD(0)\n",
    "# Plot the estimation errors with standard deviations over states\n",
    "dd = np.abs(vs_td - v.reshape((1, 1, -1)))[:, -1, :]\n",
    "dd /= max_v\n",
    "dmean = dd.mean(0)\n",
    "derr = dd.std(0)\n",
    "steps = arange(0, n_chunks * len_chunk, len_chunk)\n",
    "# Fit a line\n",
    "xx = sqrt(tau)\n",
    "b, m = polyfit(xx, dmean, deg=1, w=1 / derr)\n",
    "errorbar(xx, dmean, yerr=derr, fmt='o', label=None, alpha=1)\n",
    "plot(xx, b + m * xx, '-', alpha=0.8, label='best fitted line')\n",
    "\n",
    "legend(loc='upper left')\n",
    "xlabel(r'$\\sqrt{\\tau_s}$')\n",
    "ylabel(r'normalized $| \\hat{v}_T(s) - v(s) |$')\n",
    "title(r'$\\gamma = %.2f, T = 10^5$' % discount)"
   ]
  },
  {
   "cell_type": "code",
   "execution_count": null,
   "metadata": {},
   "outputs": [],
   "source": []
  }
 ],
 "metadata": {
  "kernelspec": {
   "display_name": "Python 3",
   "language": "python",
   "name": "python3"
  },
  "language_info": {
   "codemirror_mode": {
    "name": "ipython",
    "version": 3
   },
   "file_extension": ".py",
   "mimetype": "text/x-python",
   "name": "python",
   "nbconvert_exporter": "python",
   "pygments_lexer": "ipython3",
   "version": "3.6.5"
  }
 },
 "nbformat": 4,
 "nbformat_minor": 2
}
